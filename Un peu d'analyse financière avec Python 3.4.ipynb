{
 "cells": [
  {
   "cell_type": "markdown",
   "metadata": {},
   "source": [
    "# <font color=\"#B40404\">Un peu d'analyse financière avec Python 3.4</font>"
   ]
  },
  {
   "cell_type": "markdown",
   "metadata": {},
   "source": [
    "## <font color=\"#084B8A\">Qu'est ce que vous apprendrai dans ce tutoriel</font>"
   ]
  },
  {
   "cell_type": "markdown",
   "metadata": {
    "collapsed": true
   },
   "source": [
    "- Analyse des séries chronologiques avec Pandas\n",
    "- Utilisation de Google Trends pour prédire les mouvements du marché\n",
    "- Construire votre propre stratégie de trading en utilisant Zipline\n",
    "- Stratégies de négociation communes:\n",
    "    - trading Momentum\n",
    "    - Retour à la moyenne"
   ]
  },
  {
   "cell_type": "markdown",
   "metadata": {},
   "source": [
    "## <font color=\"#084B8A\">Les différentes étapes vers une stratégie de négociation réussie</font>"
   ]
  },
  {
   "cell_type": "markdown",
   "metadata": {},
   "source": [
    "1. L'analyse des données\n",
    "    - Pandas + Matplotlib (Partie I)\n",
    "2. Stratégie backtest\n",
    "    - Pandas peuvent être utilisés, mais de nombreuses limites (Partie II )\n",
    "    - Zipline (Partie III )\n",
    "3. tratégie de test Forward\n",
    "    - Trivial sur Quantopian (Partie IV )"
   ]
  },
  {
   "cell_type": "markdown",
   "metadata": {},
   "source": [
    "## <font color=\"#084B8A\">Bases de Pandas (Analyse de données)</font>"
   ]
  },
  {
   "cell_type": "code",
   "execution_count": 1,
   "metadata": {
    "collapsed": false,
    "scrolled": true
   },
   "outputs": [
    {
     "data": {
      "text/html": [
       "<iframe src=http://pandas.pydata.org width=800 height=350></iframe>"
      ],
      "text/plain": [
       "<IPython.core.display.HTML object>"
      ]
     },
     "execution_count": 1,
     "metadata": {},
     "output_type": "execute_result"
    }
   ],
   "source": [
    "from IPython.core.display import HTML\n",
    "HTML(\"<iframe src=http://pandas.pydata.org width=800 height=350></iframe>\")"
   ]
  },
  {
   "cell_type": "code",
   "execution_count": 2,
   "metadata": {
    "collapsed": false
   },
   "outputs": [
    {
     "data": {
      "text/plain": [
       "'0.16.2'"
      ]
     },
     "execution_count": 2,
     "metadata": {},
     "output_type": "execute_result"
    }
   ],
   "source": [
    "import datetime\n",
    "\n",
    "import pandas as pd\n",
    "import pandas.io.data\n",
    "from pandas import Series, DataFrame\n",
    "pd.__version__"
   ]
  },
  {
   "cell_type": "code",
   "execution_count": 3,
   "metadata": {
    "collapsed": false
   },
   "outputs": [
    {
     "data": {
      "text/plain": [
       "'1.4.3'"
      ]
     },
     "execution_count": 3,
     "metadata": {},
     "output_type": "execute_result"
    }
   ],
   "source": [
    "%matplotlib inline\n",
    "import matplotlib.pyplot as plt\n",
    "import matplotlib as mpl\n",
    "import numpy as np\n",
    "mpl.rc('figure', figsize=(8, 7))\n",
    "mpl.__version__"
   ]
  },
  {
   "cell_type": "markdown",
   "metadata": {},
   "source": [
    "## <font color=\"#084B8A\">Création / Chargement de données - séries chronologiques</font>"
   ]
  },
  {
   "cell_type": "markdown",
   "metadata": {},
   "source": [
    "- De construction Python\n",
    "- De Yahoo finance\n",
    "- De fichiers CSV"
   ]
  },
  {
   "cell_type": "markdown",
   "metadata": {},
   "source": [
    "### <font color=\"#585858\">De construction Python</font>"
   ]
  },
  {
   "cell_type": "code",
   "execution_count": 4,
   "metadata": {
    "collapsed": false
   },
   "outputs": [
    {
     "data": {
      "text/plain": [
       "a    1\n",
       "b    2\n",
       "c    3\n",
       "d    4\n",
       "e    5\n",
       "dtype: int64"
      ]
     },
     "execution_count": 4,
     "metadata": {},
     "output_type": "execute_result"
    }
   ],
   "source": [
    "labels = ['a', 'b', 'c', 'd', 'e']\n",
    "s = Series([1, 2, 3, 4, 5], index=labels)\n",
    "s"
   ]
  },
  {
   "cell_type": "code",
   "execution_count": 5,
   "metadata": {
    "collapsed": false
   },
   "outputs": [
    {
     "data": {
      "text/plain": [
       "True"
      ]
     },
     "execution_count": 5,
     "metadata": {},
     "output_type": "execute_result"
    }
   ],
   "source": [
    "'b' in s"
   ]
  },
  {
   "cell_type": "code",
   "execution_count": 6,
   "metadata": {
    "collapsed": false
   },
   "outputs": [
    {
     "data": {
      "text/plain": [
       "2"
      ]
     },
     "execution_count": 6,
     "metadata": {},
     "output_type": "execute_result"
    }
   ],
   "source": [
    "s['b']"
   ]
  },
  {
   "cell_type": "code",
   "execution_count": 7,
   "metadata": {
    "collapsed": false
   },
   "outputs": [
    {
     "data": {
      "text/plain": [
       "{'a': 1, 'b': 2, 'c': 3, 'd': 4, 'e': 5}"
      ]
     },
     "execution_count": 7,
     "metadata": {},
     "output_type": "execute_result"
    }
   ],
   "source": [
    "mapping = s.to_dict()\n",
    "mapping"
   ]
  },
  {
   "cell_type": "code",
   "execution_count": 8,
   "metadata": {
    "collapsed": false
   },
   "outputs": [
    {
     "data": {
      "text/plain": [
       "a    1\n",
       "b    2\n",
       "c    3\n",
       "d    4\n",
       "e    5\n",
       "dtype: int64"
      ]
     },
     "execution_count": 8,
     "metadata": {},
     "output_type": "execute_result"
    }
   ],
   "source": [
    "Series(mapping)"
   ]
  },
  {
   "cell_type": "markdown",
   "metadata": {},
   "source": [
    "### <font color=\"#585858\">De Yahoo finance</font>"
   ]
  },
  {
   "cell_type": "code",
   "execution_count": 9,
   "metadata": {
    "collapsed": false
   },
   "outputs": [
    {
     "data": {
      "text/html": [
       "<div>\n",
       "<table border=\"1\" class=\"dataframe\">\n",
       "  <thead>\n",
       "    <tr style=\"text-align: right;\">\n",
       "      <th></th>\n",
       "      <th>Open</th>\n",
       "      <th>High</th>\n",
       "      <th>Low</th>\n",
       "      <th>Close</th>\n",
       "      <th>Volume</th>\n",
       "      <th>Adj Close</th>\n",
       "    </tr>\n",
       "    <tr>\n",
       "      <th>Date</th>\n",
       "      <th></th>\n",
       "      <th></th>\n",
       "      <th></th>\n",
       "      <th></th>\n",
       "      <th></th>\n",
       "      <th></th>\n",
       "    </tr>\n",
       "  </thead>\n",
       "  <tbody>\n",
       "    <tr>\n",
       "      <th>2006-10-02</th>\n",
       "      <td>75.100003</td>\n",
       "      <td>75.870001</td>\n",
       "      <td>74.299998</td>\n",
       "      <td>74.859998</td>\n",
       "      <td>178159800</td>\n",
       "      <td>9.903863</td>\n",
       "    </tr>\n",
       "    <tr>\n",
       "      <th>2006-10-03</th>\n",
       "      <td>74.450002</td>\n",
       "      <td>74.950000</td>\n",
       "      <td>73.190000</td>\n",
       "      <td>74.080000</td>\n",
       "      <td>197677200</td>\n",
       "      <td>9.800671</td>\n",
       "    </tr>\n",
       "    <tr>\n",
       "      <th>2006-10-04</th>\n",
       "      <td>74.100000</td>\n",
       "      <td>75.459998</td>\n",
       "      <td>73.159999</td>\n",
       "      <td>75.380003</td>\n",
       "      <td>207270700</td>\n",
       "      <td>9.972659</td>\n",
       "    </tr>\n",
       "    <tr>\n",
       "      <th>2006-10-05</th>\n",
       "      <td>74.529997</td>\n",
       "      <td>76.160001</td>\n",
       "      <td>74.130001</td>\n",
       "      <td>74.829997</td>\n",
       "      <td>170970800</td>\n",
       "      <td>9.899894</td>\n",
       "    </tr>\n",
       "    <tr>\n",
       "      <th>2006-10-06</th>\n",
       "      <td>74.420001</td>\n",
       "      <td>75.040002</td>\n",
       "      <td>73.810000</td>\n",
       "      <td>74.220003</td>\n",
       "      <td>116739700</td>\n",
       "      <td>9.819193</td>\n",
       "    </tr>\n",
       "  </tbody>\n",
       "</table>\n",
       "</div>"
      ],
      "text/plain": [
       "                 Open       High        Low      Close     Volume  Adj Close\n",
       "Date                                                                        \n",
       "2006-10-02  75.100003  75.870001  74.299998  74.859998  178159800   9.903863\n",
       "2006-10-03  74.450002  74.950000  73.190000  74.080000  197677200   9.800671\n",
       "2006-10-04  74.100000  75.459998  73.159999  75.380003  207270700   9.972659\n",
       "2006-10-05  74.529997  76.160001  74.130001  74.829997  170970800   9.899894\n",
       "2006-10-06  74.420001  75.040002  73.810000  74.220003  116739700   9.819193"
      ]
     },
     "execution_count": 9,
     "metadata": {},
     "output_type": "execute_result"
    }
   ],
   "source": [
    "aapl = pd.io.data.get_data_yahoo('AAPL', \n",
    "                                 start=datetime.datetime(2006, 10, 1), \n",
    "                                 end=datetime.datetime(2012, 1, 1))\n",
    "aapl.head()"
   ]
  },
  {
   "cell_type": "markdown",
   "metadata": {},
   "source": [
    "### <font color=\"#585858\">De fichiers CSV</font>"
   ]
  },
  {
   "cell_type": "code",
   "execution_count": 10,
   "metadata": {
    "collapsed": false
   },
   "outputs": [
    {
     "data": {
      "text/html": [
       "<div>\n",
       "<table border=\"1\" class=\"dataframe\">\n",
       "  <thead>\n",
       "    <tr style=\"text-align: right;\">\n",
       "      <th></th>\n",
       "      <th>Open</th>\n",
       "      <th>High</th>\n",
       "      <th>Low</th>\n",
       "      <th>Close</th>\n",
       "      <th>Volume</th>\n",
       "      <th>Adj Close</th>\n",
       "    </tr>\n",
       "    <tr>\n",
       "      <th>Date</th>\n",
       "      <th></th>\n",
       "      <th></th>\n",
       "      <th></th>\n",
       "      <th></th>\n",
       "      <th></th>\n",
       "      <th></th>\n",
       "    </tr>\n",
       "  </thead>\n",
       "  <tbody>\n",
       "    <tr>\n",
       "      <th>2006-10-02</th>\n",
       "      <td>75.100003</td>\n",
       "      <td>75.870001</td>\n",
       "      <td>74.299998</td>\n",
       "      <td>74.859998</td>\n",
       "      <td>178159800</td>\n",
       "      <td>9.903863</td>\n",
       "    </tr>\n",
       "    <tr>\n",
       "      <th>2006-10-03</th>\n",
       "      <td>74.450002</td>\n",
       "      <td>74.950000</td>\n",
       "      <td>73.190000</td>\n",
       "      <td>74.080000</td>\n",
       "      <td>197677200</td>\n",
       "      <td>9.800671</td>\n",
       "    </tr>\n",
       "    <tr>\n",
       "      <th>2006-10-04</th>\n",
       "      <td>74.100000</td>\n",
       "      <td>75.459998</td>\n",
       "      <td>73.159999</td>\n",
       "      <td>75.380003</td>\n",
       "      <td>207270700</td>\n",
       "      <td>9.972659</td>\n",
       "    </tr>\n",
       "    <tr>\n",
       "      <th>2006-10-05</th>\n",
       "      <td>74.529997</td>\n",
       "      <td>76.160001</td>\n",
       "      <td>74.130001</td>\n",
       "      <td>74.829997</td>\n",
       "      <td>170970800</td>\n",
       "      <td>9.899894</td>\n",
       "    </tr>\n",
       "    <tr>\n",
       "      <th>2006-10-06</th>\n",
       "      <td>74.420001</td>\n",
       "      <td>75.040002</td>\n",
       "      <td>73.810000</td>\n",
       "      <td>74.220003</td>\n",
       "      <td>116739700</td>\n",
       "      <td>9.819193</td>\n",
       "    </tr>\n",
       "  </tbody>\n",
       "</table>\n",
       "</div>"
      ],
      "text/plain": [
       "                 Open       High        Low      Close     Volume  Adj Close\n",
       "Date                                                                        \n",
       "2006-10-02  75.100003  75.870001  74.299998  74.859998  178159800   9.903863\n",
       "2006-10-03  74.450002  74.950000  73.190000  74.080000  197677200   9.800671\n",
       "2006-10-04  74.100000  75.459998  73.159999  75.380003  207270700   9.972659\n",
       "2006-10-05  74.529997  76.160001  74.130001  74.829997  170970800   9.899894\n",
       "2006-10-06  74.420001  75.040002  73.810000  74.220003  116739700   9.819193"
      ]
     },
     "execution_count": 10,
     "metadata": {},
     "output_type": "execute_result"
    }
   ],
   "source": [
    "aapl.to_csv('aapl_ohlc.csv')\n",
    "aapl.head()"
   ]
  },
  {
   "cell_type": "code",
   "execution_count": 11,
   "metadata": {
    "collapsed": false
   },
   "outputs": [
    {
     "data": {
      "text/html": [
       "<div>\n",
       "<table border=\"1\" class=\"dataframe\">\n",
       "  <thead>\n",
       "    <tr style=\"text-align: right;\">\n",
       "      <th></th>\n",
       "      <th>Open</th>\n",
       "      <th>High</th>\n",
       "      <th>Low</th>\n",
       "      <th>Close</th>\n",
       "      <th>Volume</th>\n",
       "      <th>Adj Close</th>\n",
       "    </tr>\n",
       "    <tr>\n",
       "      <th>Date</th>\n",
       "      <th></th>\n",
       "      <th></th>\n",
       "      <th></th>\n",
       "      <th></th>\n",
       "      <th></th>\n",
       "      <th></th>\n",
       "    </tr>\n",
       "  </thead>\n",
       "  <tbody>\n",
       "    <tr>\n",
       "      <th>2006-10-02</th>\n",
       "      <td>75.100003</td>\n",
       "      <td>75.870001</td>\n",
       "      <td>74.299998</td>\n",
       "      <td>74.859998</td>\n",
       "      <td>178159800</td>\n",
       "      <td>9.903863</td>\n",
       "    </tr>\n",
       "    <tr>\n",
       "      <th>2006-10-03</th>\n",
       "      <td>74.450002</td>\n",
       "      <td>74.950000</td>\n",
       "      <td>73.190000</td>\n",
       "      <td>74.080000</td>\n",
       "      <td>197677200</td>\n",
       "      <td>9.800671</td>\n",
       "    </tr>\n",
       "    <tr>\n",
       "      <th>2006-10-04</th>\n",
       "      <td>74.100000</td>\n",
       "      <td>75.459998</td>\n",
       "      <td>73.159999</td>\n",
       "      <td>75.380003</td>\n",
       "      <td>207270700</td>\n",
       "      <td>9.972659</td>\n",
       "    </tr>\n",
       "    <tr>\n",
       "      <th>2006-10-05</th>\n",
       "      <td>74.529997</td>\n",
       "      <td>76.160001</td>\n",
       "      <td>74.130001</td>\n",
       "      <td>74.829997</td>\n",
       "      <td>170970800</td>\n",
       "      <td>9.899894</td>\n",
       "    </tr>\n",
       "    <tr>\n",
       "      <th>2006-10-06</th>\n",
       "      <td>74.420001</td>\n",
       "      <td>75.040002</td>\n",
       "      <td>73.810000</td>\n",
       "      <td>74.220003</td>\n",
       "      <td>116739700</td>\n",
       "      <td>9.819193</td>\n",
       "    </tr>\n",
       "  </tbody>\n",
       "</table>\n",
       "</div>"
      ],
      "text/plain": [
       "                 Open       High        Low      Close     Volume  Adj Close\n",
       "Date                                                                        \n",
       "2006-10-02  75.100003  75.870001  74.299998  74.859998  178159800   9.903863\n",
       "2006-10-03  74.450002  74.950000  73.190000  74.080000  197677200   9.800671\n",
       "2006-10-04  74.100000  75.459998  73.159999  75.380003  207270700   9.972659\n",
       "2006-10-05  74.529997  76.160001  74.130001  74.829997  170970800   9.899894\n",
       "2006-10-06  74.420001  75.040002  73.810000  74.220003  116739700   9.819193"
      ]
     },
     "execution_count": 11,
     "metadata": {},
     "output_type": "execute_result"
    }
   ],
   "source": [
    "Location = r'/Users/moi/Desktop/FOLDERS/SOFWARES & SCRIPTS/PYTHON/Tutoriels/Applications Python 3.4/aapl_ohlc.csv'\n",
    "df = pd.read_csv(Location, index_col='Date', parse_dates=True)\n",
    "df.head()"
   ]
  },
  {
   "cell_type": "code",
   "execution_count": 12,
   "metadata": {
    "collapsed": false
   },
   "outputs": [
    {
     "data": {
      "text/plain": [
       "DatetimeIndex(['2006-10-02', '2006-10-03', '2006-10-04', '2006-10-05',\n",
       "               '2006-10-06', '2006-10-09', '2006-10-10', '2006-10-11',\n",
       "               '2006-10-12', '2006-10-13', \n",
       "               ...\n",
       "               '2011-12-16', '2011-12-19', '2011-12-20', '2011-12-21',\n",
       "               '2011-12-22', '2011-12-23', '2011-12-27', '2011-12-28',\n",
       "               '2011-12-29', '2011-12-30'],\n",
       "              dtype='datetime64[ns]', name='Date', length=1323, freq=None, tz=None)"
      ]
     },
     "execution_count": 12,
     "metadata": {},
     "output_type": "execute_result"
    }
   ],
   "source": [
    "df.index"
   ]
  },
  {
   "cell_type": "markdown",
   "metadata": {},
   "source": [
    "## <font color=\"#084B8A\">Séries et dataframe : Premiers pas</font>"
   ]
  },
  {
   "cell_type": "markdown",
   "metadata": {},
   "source": [
    "- Indexation\n",
    "- Découpage\n",
    "- Création de nouvelles colonnes"
   ]
  },
  {
   "cell_type": "code",
   "execution_count": 13,
   "metadata": {
    "collapsed": false
   },
   "outputs": [
    {
     "data": {
      "text/plain": [
       "Date\n",
       "2011-12-16    381.019989\n",
       "2011-12-19    382.210003\n",
       "2011-12-20    395.949997\n",
       "2011-12-21    396.450008\n",
       "2011-12-22    398.550003\n",
       "2011-12-23    403.330006\n",
       "2011-12-27    406.529999\n",
       "2011-12-28    402.640003\n",
       "2011-12-29    405.120007\n",
       "2011-12-30    405.000004\n",
       "Name: Close, dtype: float64"
      ]
     },
     "execution_count": 13,
     "metadata": {},
     "output_type": "execute_result"
    }
   ],
   "source": [
    "ts = df['Close'][-10:]\n",
    "ts"
   ]
  },
  {
   "cell_type": "markdown",
   "metadata": {},
   "source": [
    "Un dataframe est une collection de série d'objets. Le découpage d'une colonne du dataframe retourne une série."
   ]
  },
  {
   "cell_type": "code",
   "execution_count": 14,
   "metadata": {
    "collapsed": false
   },
   "outputs": [
    {
     "data": {
      "text/plain": [
       "pandas.core.series.Series"
      ]
     },
     "execution_count": 14,
     "metadata": {},
     "output_type": "execute_result"
    }
   ],
   "source": [
    "type(ts)"
   ]
  },
  {
   "cell_type": "code",
   "execution_count": 15,
   "metadata": {
    "collapsed": false
   },
   "outputs": [
    {
     "data": {
      "text/plain": [
       "Timestamp('2011-12-23 00:00:00')"
      ]
     },
     "execution_count": 15,
     "metadata": {},
     "output_type": "execute_result"
    }
   ],
   "source": [
    "date = ts.index[5]\n",
    "date"
   ]
  },
  {
   "cell_type": "code",
   "execution_count": 16,
   "metadata": {
    "collapsed": false
   },
   "outputs": [
    {
     "data": {
      "text/plain": [
       "403.33000600000003"
      ]
     },
     "execution_count": 16,
     "metadata": {},
     "output_type": "execute_result"
    }
   ],
   "source": [
    "ts[date]"
   ]
  },
  {
   "cell_type": "code",
   "execution_count": 17,
   "metadata": {
    "collapsed": false
   },
   "outputs": [
    {
     "data": {
      "text/plain": [
       "403.33000600000003"
      ]
     },
     "execution_count": 17,
     "metadata": {},
     "output_type": "execute_result"
    }
   ],
   "source": [
    "ts[5]"
   ]
  },
  {
   "cell_type": "markdown",
   "metadata": {},
   "source": [
    "Nous pouvons également sélectionner plusieurs colonnes."
   ]
  },
  {
   "cell_type": "code",
   "execution_count": 18,
   "metadata": {
    "collapsed": false
   },
   "outputs": [
    {
     "data": {
      "text/html": [
       "<div>\n",
       "<table border=\"1\" class=\"dataframe\">\n",
       "  <thead>\n",
       "    <tr style=\"text-align: right;\">\n",
       "      <th></th>\n",
       "      <th>Open</th>\n",
       "      <th>Close</th>\n",
       "    </tr>\n",
       "    <tr>\n",
       "      <th>Date</th>\n",
       "      <th></th>\n",
       "      <th></th>\n",
       "    </tr>\n",
       "  </thead>\n",
       "  <tbody>\n",
       "    <tr>\n",
       "      <th>2006-10-02</th>\n",
       "      <td>75.100003</td>\n",
       "      <td>74.859998</td>\n",
       "    </tr>\n",
       "    <tr>\n",
       "      <th>2006-10-03</th>\n",
       "      <td>74.450002</td>\n",
       "      <td>74.080000</td>\n",
       "    </tr>\n",
       "    <tr>\n",
       "      <th>2006-10-04</th>\n",
       "      <td>74.100000</td>\n",
       "      <td>75.380003</td>\n",
       "    </tr>\n",
       "    <tr>\n",
       "      <th>2006-10-05</th>\n",
       "      <td>74.529997</td>\n",
       "      <td>74.829997</td>\n",
       "    </tr>\n",
       "    <tr>\n",
       "      <th>2006-10-06</th>\n",
       "      <td>74.420001</td>\n",
       "      <td>74.220003</td>\n",
       "    </tr>\n",
       "  </tbody>\n",
       "</table>\n",
       "</div>"
      ],
      "text/plain": [
       "                 Open      Close\n",
       "Date                            \n",
       "2006-10-02  75.100003  74.859998\n",
       "2006-10-03  74.450002  74.080000\n",
       "2006-10-04  74.100000  75.380003\n",
       "2006-10-05  74.529997  74.829997\n",
       "2006-10-06  74.420001  74.220003"
      ]
     },
     "execution_count": 18,
     "metadata": {},
     "output_type": "execute_result"
    }
   ],
   "source": [
    "df[['Open','Close']].head()"
   ]
  },
  {
   "cell_type": "markdown",
   "metadata": {},
   "source": [
    "De nouvelles colonnes peuvent être ajoutées à la volée."
   ]
  },
  {
   "cell_type": "code",
   "execution_count": 19,
   "metadata": {
    "collapsed": false
   },
   "outputs": [
    {
     "data": {
      "text/html": [
       "<div>\n",
       "<table border=\"1\" class=\"dataframe\">\n",
       "  <thead>\n",
       "    <tr style=\"text-align: right;\">\n",
       "      <th></th>\n",
       "      <th>Open</th>\n",
       "      <th>High</th>\n",
       "      <th>Low</th>\n",
       "      <th>Close</th>\n",
       "      <th>Volume</th>\n",
       "      <th>Adj Close</th>\n",
       "      <th>diff</th>\n",
       "    </tr>\n",
       "    <tr>\n",
       "      <th>Date</th>\n",
       "      <th></th>\n",
       "      <th></th>\n",
       "      <th></th>\n",
       "      <th></th>\n",
       "      <th></th>\n",
       "      <th></th>\n",
       "      <th></th>\n",
       "    </tr>\n",
       "  </thead>\n",
       "  <tbody>\n",
       "    <tr>\n",
       "      <th>2006-10-02</th>\n",
       "      <td>75.100003</td>\n",
       "      <td>75.870001</td>\n",
       "      <td>74.299998</td>\n",
       "      <td>74.859998</td>\n",
       "      <td>178159800</td>\n",
       "      <td>9.903863</td>\n",
       "      <td>0.240005</td>\n",
       "    </tr>\n",
       "    <tr>\n",
       "      <th>2006-10-03</th>\n",
       "      <td>74.450002</td>\n",
       "      <td>74.950000</td>\n",
       "      <td>73.190000</td>\n",
       "      <td>74.080000</td>\n",
       "      <td>197677200</td>\n",
       "      <td>9.800671</td>\n",
       "      <td>0.370002</td>\n",
       "    </tr>\n",
       "    <tr>\n",
       "      <th>2006-10-04</th>\n",
       "      <td>74.100000</td>\n",
       "      <td>75.459998</td>\n",
       "      <td>73.159999</td>\n",
       "      <td>75.380003</td>\n",
       "      <td>207270700</td>\n",
       "      <td>9.972659</td>\n",
       "      <td>-1.280003</td>\n",
       "    </tr>\n",
       "    <tr>\n",
       "      <th>2006-10-05</th>\n",
       "      <td>74.529997</td>\n",
       "      <td>76.160001</td>\n",
       "      <td>74.130001</td>\n",
       "      <td>74.829997</td>\n",
       "      <td>170970800</td>\n",
       "      <td>9.899894</td>\n",
       "      <td>-0.300000</td>\n",
       "    </tr>\n",
       "    <tr>\n",
       "      <th>2006-10-06</th>\n",
       "      <td>74.420001</td>\n",
       "      <td>75.040002</td>\n",
       "      <td>73.810000</td>\n",
       "      <td>74.220003</td>\n",
       "      <td>116739700</td>\n",
       "      <td>9.819193</td>\n",
       "      <td>0.199998</td>\n",
       "    </tr>\n",
       "  </tbody>\n",
       "</table>\n",
       "</div>"
      ],
      "text/plain": [
       "                 Open       High        Low      Close     Volume  Adj Close  \\\n",
       "Date                                                                           \n",
       "2006-10-02  75.100003  75.870001  74.299998  74.859998  178159800   9.903863   \n",
       "2006-10-03  74.450002  74.950000  73.190000  74.080000  197677200   9.800671   \n",
       "2006-10-04  74.100000  75.459998  73.159999  75.380003  207270700   9.972659   \n",
       "2006-10-05  74.529997  76.160001  74.130001  74.829997  170970800   9.899894   \n",
       "2006-10-06  74.420001  75.040002  73.810000  74.220003  116739700   9.819193   \n",
       "\n",
       "                diff  \n",
       "Date                  \n",
       "2006-10-02  0.240005  \n",
       "2006-10-03  0.370002  \n",
       "2006-10-04 -1.280003  \n",
       "2006-10-05 -0.300000  \n",
       "2006-10-06  0.199998  "
      ]
     },
     "execution_count": 19,
     "metadata": {},
     "output_type": "execute_result"
    }
   ],
   "source": [
    "df['diff'] = df.Open - df.Close\n",
    "df.head()"
   ]
  },
  {
   "cell_type": "markdown",
   "metadata": {},
   "source": [
    "...et supprimées à la volée."
   ]
  },
  {
   "cell_type": "code",
   "execution_count": 20,
   "metadata": {
    "collapsed": false
   },
   "outputs": [
    {
     "data": {
      "text/html": [
       "<div>\n",
       "<table border=\"1\" class=\"dataframe\">\n",
       "  <thead>\n",
       "    <tr style=\"text-align: right;\">\n",
       "      <th></th>\n",
       "      <th>Open</th>\n",
       "      <th>High</th>\n",
       "      <th>Low</th>\n",
       "      <th>Close</th>\n",
       "      <th>Volume</th>\n",
       "      <th>Adj Close</th>\n",
       "    </tr>\n",
       "    <tr>\n",
       "      <th>Date</th>\n",
       "      <th></th>\n",
       "      <th></th>\n",
       "      <th></th>\n",
       "      <th></th>\n",
       "      <th></th>\n",
       "      <th></th>\n",
       "    </tr>\n",
       "  </thead>\n",
       "  <tbody>\n",
       "    <tr>\n",
       "      <th>2006-10-02</th>\n",
       "      <td>75.100003</td>\n",
       "      <td>75.870001</td>\n",
       "      <td>74.299998</td>\n",
       "      <td>74.859998</td>\n",
       "      <td>178159800</td>\n",
       "      <td>9.903863</td>\n",
       "    </tr>\n",
       "    <tr>\n",
       "      <th>2006-10-03</th>\n",
       "      <td>74.450002</td>\n",
       "      <td>74.950000</td>\n",
       "      <td>73.190000</td>\n",
       "      <td>74.080000</td>\n",
       "      <td>197677200</td>\n",
       "      <td>9.800671</td>\n",
       "    </tr>\n",
       "    <tr>\n",
       "      <th>2006-10-04</th>\n",
       "      <td>74.100000</td>\n",
       "      <td>75.459998</td>\n",
       "      <td>73.159999</td>\n",
       "      <td>75.380003</td>\n",
       "      <td>207270700</td>\n",
       "      <td>9.972659</td>\n",
       "    </tr>\n",
       "    <tr>\n",
       "      <th>2006-10-05</th>\n",
       "      <td>74.529997</td>\n",
       "      <td>76.160001</td>\n",
       "      <td>74.130001</td>\n",
       "      <td>74.829997</td>\n",
       "      <td>170970800</td>\n",
       "      <td>9.899894</td>\n",
       "    </tr>\n",
       "    <tr>\n",
       "      <th>2006-10-06</th>\n",
       "      <td>74.420001</td>\n",
       "      <td>75.040002</td>\n",
       "      <td>73.810000</td>\n",
       "      <td>74.220003</td>\n",
       "      <td>116739700</td>\n",
       "      <td>9.819193</td>\n",
       "    </tr>\n",
       "  </tbody>\n",
       "</table>\n",
       "</div>"
      ],
      "text/plain": [
       "                 Open       High        Low      Close     Volume  Adj Close\n",
       "Date                                                                        \n",
       "2006-10-02  75.100003  75.870001  74.299998  74.859998  178159800   9.903863\n",
       "2006-10-03  74.450002  74.950000  73.190000  74.080000  197677200   9.800671\n",
       "2006-10-04  74.100000  75.459998  73.159999  75.380003  207270700   9.972659\n",
       "2006-10-05  74.529997  76.160001  74.130001  74.829997  170970800   9.899894\n",
       "2006-10-06  74.420001  75.040002  73.810000  74.220003  116739700   9.819193"
      ]
     },
     "execution_count": 20,
     "metadata": {},
     "output_type": "execute_result"
    }
   ],
   "source": [
    "del df['diff']\n",
    "df.head()"
   ]
  },
  {
   "cell_type": "markdown",
   "metadata": {},
   "source": [
    "## <font color=\"#084B8A\">Calculs financiers généraux</font>"
   ]
  },
  {
   "cell_type": "markdown",
   "metadata": {},
   "source": [
    "- Moyenne mobile\n",
    "- Résultats"
   ]
  },
  {
   "cell_type": "code",
   "execution_count": 21,
   "metadata": {
    "collapsed": true
   },
   "outputs": [],
   "source": [
    "close_px = df['Adj Close']"
   ]
  },
  {
   "cell_type": "code",
   "execution_count": 22,
   "metadata": {
    "collapsed": false
   },
   "outputs": [
    {
     "data": {
      "text/plain": [
       "Date\n",
       "2011-12-16    51.425441\n",
       "2011-12-19    51.390183\n",
       "2011-12-20    51.357704\n",
       "2011-12-21    51.353338\n",
       "2011-12-22    51.346558\n",
       "2011-12-23    51.342059\n",
       "2011-12-27    51.347285\n",
       "2011-12-28    51.340207\n",
       "2011-12-29    51.368684\n",
       "2011-12-30    51.393788\n",
       "dtype: float64"
      ]
     },
     "execution_count": 22,
     "metadata": {},
     "output_type": "execute_result"
    }
   ],
   "source": [
    "mavg = pd.rolling_mean(close_px, 40)\n",
    "mavg[-10:]"
   ]
  },
  {
   "cell_type": "code",
   "execution_count": 23,
   "metadata": {
    "collapsed": false
   },
   "outputs": [
    {
     "data": {
      "text/plain": [
       "Date\n",
       "2006-10-02         NaN\n",
       "2006-10-03   -0.010419\n",
       "2006-10-04    0.017549\n",
       "2006-10-05   -0.007296\n",
       "2006-10-06   -0.008152\n",
       "Name: Adj Close, dtype: float64"
      ]
     },
     "execution_count": 23,
     "metadata": {},
     "output_type": "execute_result"
    }
   ],
   "source": [
    "rets = close_px / close_px.shift(1) - 1\n",
    "rets.head()"
   ]
  },
  {
   "cell_type": "markdown",
   "metadata": {},
   "source": [
    "Ou encore .pct_change()."
   ]
  },
  {
   "cell_type": "code",
   "execution_count": 24,
   "metadata": {
    "collapsed": false
   },
   "outputs": [
    {
     "data": {
      "text/plain": [
       "Date\n",
       "2006-10-02         NaN\n",
       "2006-10-03   -0.010419\n",
       "2006-10-04    0.017549\n",
       "2006-10-05   -0.007296\n",
       "2006-10-06   -0.008152\n",
       "Name: Adj Close, dtype: float64"
      ]
     },
     "execution_count": 24,
     "metadata": {},
     "output_type": "execute_result"
    }
   ],
   "source": [
    "close_px.pct_change().head()"
   ]
  },
  {
   "cell_type": "markdown",
   "metadata": {},
   "source": [
    "## <font color=\"#084B8A\">Tracés Basiques</font>"
   ]
  },
  {
   "cell_type": "markdown",
   "metadata": {},
   "source": [
    "Les series et les DataFrames ont une commande commune .plot() (utilise Matplotlib en fait)."
   ]
  },
  {
   "cell_type": "code",
   "execution_count": 25,
   "metadata": {
    "collapsed": false
   },
   "outputs": [
    {
     "data": {
      "text/plain": [
       "<matplotlib.legend.Legend at 0x104ca4860>"
      ]
     },
     "execution_count": 25,
     "metadata": {},
     "output_type": "execute_result"
    },
    {
     "data": {
      "image/png": "[encoded data removed]",
      "text/plain": [
       "<matplotlib.figure.Figure at 0x109551978>"
      ]
     },
     "metadata": {},
     "output_type": "display_data"
    }
   ],
   "source": [
    "close_px.plot(label='AAPL')\n",
    "mavg.plot(label='mavg')\n",
    "plt.legend()"
   ]
  },
  {
   "cell_type": "markdown",
   "metadata": {
    "collapsed": true
   },
   "source": [
    "## <font color=\"#084B8A\">Facultatif : Si on a du temps ... </font>"
   ]
  },
  {
   "cell_type": "code",
   "execution_count": 26,
   "metadata": {
    "collapsed": false
   },
   "outputs": [
    {
     "data": {
      "text/html": [
       "<div>\n",
       "<table border=\"1\" class=\"dataframe\">\n",
       "  <thead>\n",
       "    <tr style=\"text-align: right;\">\n",
       "      <th></th>\n",
       "      <th>AAPL</th>\n",
       "      <th>GE</th>\n",
       "      <th>GOOG</th>\n",
       "      <th>IBM</th>\n",
       "      <th>KO</th>\n",
       "      <th>MSFT</th>\n",
       "      <th>PEP</th>\n",
       "    </tr>\n",
       "    <tr>\n",
       "      <th>Date</th>\n",
       "      <th></th>\n",
       "      <th></th>\n",
       "      <th></th>\n",
       "      <th></th>\n",
       "      <th></th>\n",
       "      <th></th>\n",
       "      <th></th>\n",
       "    </tr>\n",
       "  </thead>\n",
       "  <tbody>\n",
       "    <tr>\n",
       "      <th>2010-01-04</th>\n",
       "      <td>28.313195</td>\n",
       "      <td>12.556963</td>\n",
       "      <td>313.062468</td>\n",
       "      <td>115.385996</td>\n",
       "      <td>23.689561</td>\n",
       "      <td>26.227603</td>\n",
       "      <td>50.953113</td>\n",
       "    </tr>\n",
       "    <tr>\n",
       "      <th>2010-01-05</th>\n",
       "      <td>28.362145</td>\n",
       "      <td>12.621983</td>\n",
       "      <td>311.683844</td>\n",
       "      <td>113.992138</td>\n",
       "      <td>23.402993</td>\n",
       "      <td>26.236076</td>\n",
       "      <td>51.568809</td>\n",
       "    </tr>\n",
       "    <tr>\n",
       "      <th>2010-01-06</th>\n",
       "      <td>27.911008</td>\n",
       "      <td>12.556963</td>\n",
       "      <td>303.826685</td>\n",
       "      <td>113.251641</td>\n",
       "      <td>23.394688</td>\n",
       "      <td>26.075067</td>\n",
       "      <td>51.052955</td>\n",
       "    </tr>\n",
       "    <tr>\n",
       "      <th>2010-01-07</th>\n",
       "      <td>27.859412</td>\n",
       "      <td>13.207162</td>\n",
       "      <td>296.753749</td>\n",
       "      <td>112.859619</td>\n",
       "      <td>23.336543</td>\n",
       "      <td>25.803894</td>\n",
       "      <td>50.728467</td>\n",
       "    </tr>\n",
       "    <tr>\n",
       "      <th>2010-01-08</th>\n",
       "      <td>28.044630</td>\n",
       "      <td>13.491624</td>\n",
       "      <td>300.709808</td>\n",
       "      <td>113.992138</td>\n",
       "      <td>22.904616</td>\n",
       "      <td>25.981851</td>\n",
       "      <td>50.562061</td>\n",
       "    </tr>\n",
       "  </tbody>\n",
       "</table>\n",
       "</div>"
      ],
      "text/plain": [
       "                 AAPL         GE        GOOG         IBM         KO  \\\n",
       "Date                                                                  \n",
       "2010-01-04  28.313195  12.556963  313.062468  115.385996  23.689561   \n",
       "2010-01-05  28.362145  12.621983  311.683844  113.992138  23.402993   \n",
       "2010-01-06  27.911008  12.556963  303.826685  113.251641  23.394688   \n",
       "2010-01-07  27.859412  13.207162  296.753749  112.859619  23.336543   \n",
       "2010-01-08  28.044630  13.491624  300.709808  113.992138  22.904616   \n",
       "\n",
       "                 MSFT        PEP  \n",
       "Date                              \n",
       "2010-01-04  26.227603  50.953113  \n",
       "2010-01-05  26.236076  51.568809  \n",
       "2010-01-06  26.075067  51.052955  \n",
       "2010-01-07  25.803894  50.728467  \n",
       "2010-01-08  25.981851  50.562061  "
      ]
     },
     "execution_count": 26,
     "metadata": {},
     "output_type": "execute_result"
    }
   ],
   "source": [
    "df = pd.io.data.get_data_yahoo(['AAPL', 'GE', 'GOOG', 'IBM', 'KO', 'MSFT', 'PEP'], \n",
    "                               start=datetime.datetime(2010, 1, 1), \n",
    "                               end=datetime.datetime(2013, 1, 1))['Adj Close']\n",
    "df.head()"
   ]
  },
  {
   "cell_type": "code",
   "execution_count": 27,
   "metadata": {
    "collapsed": true
   },
   "outputs": [],
   "source": [
    "rets = df.pct_change()"
   ]
  },
  {
   "cell_type": "code",
   "execution_count": 28,
   "metadata": {
    "collapsed": false
   },
   "outputs": [
    {
     "data": {
      "text/plain": [
       "<matplotlib.text.Text at 0x109372400>"
      ]
     },
     "execution_count": 28,
     "metadata": {},
     "output_type": "execute_result"
    },
    {
     "data": {
      "image/png": "[encoded data removed]",
      "text/plain": [
       "<matplotlib.figure.Figure at 0x103316d68>"
      ]
     },
     "metadata": {},
     "output_type": "display_data"
    }
   ],
   "source": [
    "plt.scatter(rets.PEP, rets.KO)\n",
    "plt.xlabel('Returns PEP')\n",
    "plt.ylabel('Returns KO')"
   ]
  },
  {
   "cell_type": "code",
   "execution_count": 29,
   "metadata": {
    "collapsed": false
   },
   "outputs": [
    {
     "data": {
      "image/png": "[encoded data removed]",
      "text/plain": [
       "<matplotlib.figure.Figure at 0x109318cf8>"
      ]
     },
     "metadata": {},
     "output_type": "display_data"
    }
   ],
   "source": [
    "pd.scatter_matrix(rets, diagonal='kde', figsize=(10, 10));"
   ]
  },
  {
   "cell_type": "code",
   "execution_count": 30,
   "metadata": {
    "collapsed": false
   },
   "outputs": [
    {
     "data": {
      "text/html": [
       "<div>\n",
       "<table border=\"1\" class=\"dataframe\">\n",
       "  <thead>\n",
       "    <tr style=\"text-align: right;\">\n",
       "      <th></th>\n",
       "      <th>AAPL</th>\n",
       "      <th>GE</th>\n",
       "      <th>GOOG</th>\n",
       "      <th>IBM</th>\n",
       "      <th>KO</th>\n",
       "      <th>MSFT</th>\n",
       "      <th>PEP</th>\n",
       "    </tr>\n",
       "  </thead>\n",
       "  <tbody>\n",
       "    <tr>\n",
       "      <th>AAPL</th>\n",
       "      <td>1.000000</td>\n",
       "      <td>0.457052</td>\n",
       "      <td>0.533387</td>\n",
       "      <td>0.501587</td>\n",
       "      <td>0.388007</td>\n",
       "      <td>0.472767</td>\n",
       "      <td>0.308964</td>\n",
       "    </tr>\n",
       "    <tr>\n",
       "      <th>GE</th>\n",
       "      <td>0.457052</td>\n",
       "      <td>1.000000</td>\n",
       "      <td>0.462696</td>\n",
       "      <td>0.609330</td>\n",
       "      <td>0.593856</td>\n",
       "      <td>0.600065</td>\n",
       "      <td>0.533503</td>\n",
       "    </tr>\n",
       "    <tr>\n",
       "      <th>GOOG</th>\n",
       "      <td>0.533387</td>\n",
       "      <td>0.462696</td>\n",
       "      <td>1.000000</td>\n",
       "      <td>0.470778</td>\n",
       "      <td>0.404099</td>\n",
       "      <td>0.472851</td>\n",
       "      <td>0.329938</td>\n",
       "    </tr>\n",
       "    <tr>\n",
       "      <th>IBM</th>\n",
       "      <td>0.501587</td>\n",
       "      <td>0.609330</td>\n",
       "      <td>0.470778</td>\n",
       "      <td>1.000000</td>\n",
       "      <td>0.601483</td>\n",
       "      <td>0.646124</td>\n",
       "      <td>0.491088</td>\n",
       "    </tr>\n",
       "    <tr>\n",
       "      <th>KO</th>\n",
       "      <td>0.388007</td>\n",
       "      <td>0.593856</td>\n",
       "      <td>0.404099</td>\n",
       "      <td>0.601483</td>\n",
       "      <td>1.000000</td>\n",
       "      <td>0.523480</td>\n",
       "      <td>0.635843</td>\n",
       "    </tr>\n",
       "    <tr>\n",
       "      <th>MSFT</th>\n",
       "      <td>0.472767</td>\n",
       "      <td>0.600065</td>\n",
       "      <td>0.472851</td>\n",
       "      <td>0.646124</td>\n",
       "      <td>0.523480</td>\n",
       "      <td>1.000000</td>\n",
       "      <td>0.477424</td>\n",
       "    </tr>\n",
       "    <tr>\n",
       "      <th>PEP</th>\n",
       "      <td>0.308964</td>\n",
       "      <td>0.533503</td>\n",
       "      <td>0.329938</td>\n",
       "      <td>0.491088</td>\n",
       "      <td>0.635843</td>\n",
       "      <td>0.477424</td>\n",
       "      <td>1.000000</td>\n",
       "    </tr>\n",
       "  </tbody>\n",
       "</table>\n",
       "</div>"
      ],
      "text/plain": [
       "          AAPL        GE      GOOG       IBM        KO      MSFT       PEP\n",
       "AAPL  1.000000  0.457052  0.533387  0.501587  0.388007  0.472767  0.308964\n",
       "GE    0.457052  1.000000  0.462696  0.609330  0.593856  0.600065  0.533503\n",
       "GOOG  0.533387  0.462696  1.000000  0.470778  0.404099  0.472851  0.329938\n",
       "IBM   0.501587  0.609330  0.470778  1.000000  0.601483  0.646124  0.491088\n",
       "KO    0.388007  0.593856  0.404099  0.601483  1.000000  0.523480  0.635843\n",
       "MSFT  0.472767  0.600065  0.472851  0.646124  0.523480  1.000000  0.477424\n",
       "PEP   0.308964  0.533503  0.329938  0.491088  0.635843  0.477424  1.000000"
      ]
     },
     "execution_count": 30,
     "metadata": {},
     "output_type": "execute_result"
    }
   ],
   "source": [
    "corr = rets.corr()\n",
    "corr"
   ]
  },
  {
   "cell_type": "code",
   "execution_count": 31,
   "metadata": {
    "collapsed": false
   },
   "outputs": [
    {
     "data": {
      "image/png": "[encoded data removed]",
      "text/plain": [
       "<matplotlib.figure.Figure at 0x109b05780>"
      ]
     },
     "metadata": {},
     "output_type": "display_data"
    }
   ],
   "source": [
    "plt.imshow(corr, cmap='hot', interpolation='none')\n",
    "plt.colorbar()\n",
    "plt.xticks(range(len(corr)), corr.columns)\n",
    "plt.yticks(range(len(corr)), corr.columns);"
   ]
  },
  {
   "cell_type": "markdown",
   "metadata": {},
   "source": [
    "Une chose à la quelle nous nous intéressons souvent est la relation entre les rendements attendus et le risque que nous prenons. Souvent, il y a un compromis entre les deux.\n",
    "\n",
    "Ici, nous utilisons plt.annotate de mettre des étiquettes sur le nuage."
   ]
  },
  {
   "cell_type": "code",
   "execution_count": 32,
   "metadata": {
    "collapsed": false
   },
   "outputs": [
    {
     "data": {
      "image/png": "[encoded data removed]",
      "text/plain": [
       "<matplotlib.figure.Figure at 0x10cd78438>"
      ]
     },
     "metadata": {},
     "output_type": "display_data"
    }
   ],
   "source": [
    "plt.scatter(rets.mean(), rets.std())\n",
    "plt.xlabel('Expected returns')\n",
    "plt.ylabel('Risk')\n",
    "for label, x, y in zip(rets.columns, rets.mean(), rets.std()):\n",
    "    plt.annotate(\n",
    "        label, \n",
    "        xy = (x, y), xytext = (20, -20),\n",
    "        textcoords = 'offset points', ha = 'right', va = 'bottom',\n",
    "        bbox = dict(boxstyle = 'round,pad=0.5', fc = 'yellow', alpha = 0.5),\n",
    "        arrowprops = dict(arrowstyle = '->', connectionstyle = 'arc3,rad=0'))"
   ]
  },
  {
   "cell_type": "markdown",
   "metadata": {},
   "source": [
    "## <font color=\"#084B8A\">L'alignement des données et le traitement des valeurs manquantes</font>"
   ]
  },
  {
   "cell_type": "markdown",
   "metadata": {},
   "source": [
    "- Join, merge, concatenate\n",
    "- Remplissage des NaNs"
   ]
  },
  {
   "cell_type": "markdown",
   "metadata": {},
   "source": [
    "Permet de tirer quelques titres de Yahoo finance et construire un dataframe des cours de clôture ajustés ."
   ]
  },
  {
   "cell_type": "code",
   "execution_count": 33,
   "metadata": {
    "collapsed": true
   },
   "outputs": [],
   "source": [
    "series_list = []\n",
    "securities = ['AAPL', 'GOOG', 'IBM', 'MSFT']\n",
    "for security in securities:\n",
    "    s = pd.io.data.get_data_yahoo(security, start=datetime.datetime(2011, 10, 1), end=datetime.datetime(2013, 1, 1))['Adj Close']\n",
    "    s.name = security # Renomme les séries de sorte que cela coincide avec les noms de la liste securities\n",
    "    series_list.append(s)"
   ]
  },
  {
   "cell_type": "markdown",
   "metadata": {},
   "source": [
    "pd.concat peut être utilisé pour concaténer plusieurs Series en un seul dataframe."
   ]
  },
  {
   "cell_type": "code",
   "execution_count": 34,
   "metadata": {
    "collapsed": false
   },
   "outputs": [
    {
     "data": {
      "text/html": [
       "<div>\n",
       "<table border=\"1\" class=\"dataframe\">\n",
       "  <thead>\n",
       "    <tr style=\"text-align: right;\">\n",
       "      <th></th>\n",
       "      <th>AAPL</th>\n",
       "      <th>GOOG</th>\n",
       "      <th>IBM</th>\n",
       "      <th>MSFT</th>\n",
       "    </tr>\n",
       "    <tr>\n",
       "      <th>Date</th>\n",
       "      <th></th>\n",
       "      <th></th>\n",
       "      <th></th>\n",
       "      <th></th>\n",
       "    </tr>\n",
       "  </thead>\n",
       "  <tbody>\n",
       "    <tr>\n",
       "      <th>2011-10-03</th>\n",
       "      <td>49.559007</td>\n",
       "      <td>247.512918</td>\n",
       "      <td>155.828357</td>\n",
       "      <td>21.621063</td>\n",
       "    </tr>\n",
       "    <tr>\n",
       "      <th>2011-10-04</th>\n",
       "      <td>49.281181</td>\n",
       "      <td>250.699734</td>\n",
       "      <td>157.132258</td>\n",
       "      <td>22.335007</td>\n",
       "    </tr>\n",
       "    <tr>\n",
       "      <th>2011-10-05</th>\n",
       "      <td>50.041895</td>\n",
       "      <td>252.098341</td>\n",
       "      <td>159.029643</td>\n",
       "      <td>22.819783</td>\n",
       "    </tr>\n",
       "    <tr>\n",
       "      <th>2011-10-06</th>\n",
       "      <td>49.925473</td>\n",
       "      <td>257.098352</td>\n",
       "      <td>163.381935</td>\n",
       "      <td>23.216420</td>\n",
       "    </tr>\n",
       "    <tr>\n",
       "      <th>2011-10-07</th>\n",
       "      <td>48.923974</td>\n",
       "      <td>257.303137</td>\n",
       "      <td>164.011397</td>\n",
       "      <td>23.137092</td>\n",
       "    </tr>\n",
       "  </tbody>\n",
       "</table>\n",
       "</div>"
      ],
      "text/plain": [
       "                 AAPL        GOOG         IBM       MSFT\n",
       "Date                                                    \n",
       "2011-10-03  49.559007  247.512918  155.828357  21.621063\n",
       "2011-10-04  49.281181  250.699734  157.132258  22.335007\n",
       "2011-10-05  50.041895  252.098341  159.029643  22.819783\n",
       "2011-10-06  49.925473  257.098352  163.381935  23.216420\n",
       "2011-10-07  48.923974  257.303137  164.011397  23.137092"
      ]
     },
     "execution_count": 34,
     "metadata": {},
     "output_type": "execute_result"
    }
   ],
   "source": [
    "df = pd.concat(series_list, axis=1)\n",
    "df.head()"
   ]
  },
  {
   "cell_type": "code",
   "execution_count": 35,
   "metadata": {
    "collapsed": false
   },
   "outputs": [
    {
     "data": {
      "text/html": [
       "<div>\n",
       "<table border=\"1\" class=\"dataframe\">\n",
       "  <thead>\n",
       "    <tr style=\"text-align: right;\">\n",
       "      <th></th>\n",
       "      <th>AAPL</th>\n",
       "      <th>GOOG</th>\n",
       "      <th>IBM</th>\n",
       "      <th>MSFT</th>\n",
       "    </tr>\n",
       "    <tr>\n",
       "      <th>Date</th>\n",
       "      <th></th>\n",
       "      <th></th>\n",
       "      <th></th>\n",
       "      <th></th>\n",
       "    </tr>\n",
       "  </thead>\n",
       "  <tbody>\n",
       "    <tr>\n",
       "      <th>2011-10-03</th>\n",
       "      <td>NaN</td>\n",
       "      <td>247.512918</td>\n",
       "      <td>155.828357</td>\n",
       "      <td>21.621063</td>\n",
       "    </tr>\n",
       "    <tr>\n",
       "      <th>2011-10-04</th>\n",
       "      <td>49.281181</td>\n",
       "      <td>NaN</td>\n",
       "      <td>NaN</td>\n",
       "      <td>NaN</td>\n",
       "    </tr>\n",
       "    <tr>\n",
       "      <th>2011-10-05</th>\n",
       "      <td>50.041895</td>\n",
       "      <td>252.098341</td>\n",
       "      <td>159.029643</td>\n",
       "      <td>NaN</td>\n",
       "    </tr>\n",
       "    <tr>\n",
       "      <th>2011-10-06</th>\n",
       "      <td>49.925473</td>\n",
       "      <td>257.098352</td>\n",
       "      <td>163.381935</td>\n",
       "      <td>NaN</td>\n",
       "    </tr>\n",
       "    <tr>\n",
       "      <th>2011-10-07</th>\n",
       "      <td>48.923974</td>\n",
       "      <td>257.303137</td>\n",
       "      <td>164.011397</td>\n",
       "      <td>23.137092</td>\n",
       "    </tr>\n",
       "  </tbody>\n",
       "</table>\n",
       "</div>"
      ],
      "text/plain": [
       "                 AAPL        GOOG         IBM       MSFT\n",
       "Date                                                    \n",
       "2011-10-03        NaN  247.512918  155.828357  21.621063\n",
       "2011-10-04  49.281181         NaN         NaN        NaN\n",
       "2011-10-05  50.041895  252.098341  159.029643        NaN\n",
       "2011-10-06  49.925473  257.098352  163.381935        NaN\n",
       "2011-10-07  48.923974  257.303137  164.011397  23.137092"
      ]
     },
     "execution_count": 35,
     "metadata": {},
     "output_type": "execute_result"
    }
   ],
   "source": [
    "df.ix[0, 'AAPL'] = np.nan\n",
    "df.ix[1, ['GOOG', 'IBM']] = np.nan\n",
    "df.ix[[1, 2, 3], 'MSFT'] = np.nan\n",
    "\n",
    "df.head()"
   ]
  },
  {
   "cell_type": "markdown",
   "metadata": {},
   "source": [
    "Pandas supporte bien les calculs avec des valeurs manquantes."
   ]
  },
  {
   "cell_type": "code",
   "execution_count": 36,
   "metadata": {
    "collapsed": false
   },
   "outputs": [
    {
     "data": {
      "text/plain": [
       "Date\n",
       "2011-10-03           NaN\n",
       "2011-10-04           NaN\n",
       "2011-10-05    302.140236\n",
       "2011-10-06    307.023825\n",
       "2011-10-07    306.227111\n",
       "dtype: float64"
      ]
     },
     "execution_count": 36,
     "metadata": {},
     "output_type": "execute_result"
    }
   ],
   "source": [
    "(df.AAPL + df.GOOG).head()"
   ]
  },
  {
   "cell_type": "markdown",
   "metadata": {},
   "source": [
    "Une approche générale pour imputer les valeurs manquantes dans les séries chronologiques est le remplissage forward (forward filling)."
   ]
  },
  {
   "cell_type": "code",
   "execution_count": 37,
   "metadata": {
    "collapsed": false
   },
   "outputs": [
    {
     "data": {
      "text/html": [
       "<div>\n",
       "<table border=\"1\" class=\"dataframe\">\n",
       "  <thead>\n",
       "    <tr style=\"text-align: right;\">\n",
       "      <th></th>\n",
       "      <th>AAPL</th>\n",
       "      <th>GOOG</th>\n",
       "      <th>IBM</th>\n",
       "      <th>MSFT</th>\n",
       "    </tr>\n",
       "    <tr>\n",
       "      <th>Date</th>\n",
       "      <th></th>\n",
       "      <th></th>\n",
       "      <th></th>\n",
       "      <th></th>\n",
       "    </tr>\n",
       "  </thead>\n",
       "  <tbody>\n",
       "    <tr>\n",
       "      <th>2011-10-03</th>\n",
       "      <td>NaN</td>\n",
       "      <td>247.512918</td>\n",
       "      <td>155.828357</td>\n",
       "      <td>21.621063</td>\n",
       "    </tr>\n",
       "    <tr>\n",
       "      <th>2011-10-04</th>\n",
       "      <td>49.281181</td>\n",
       "      <td>247.512918</td>\n",
       "      <td>155.828357</td>\n",
       "      <td>21.621063</td>\n",
       "    </tr>\n",
       "    <tr>\n",
       "      <th>2011-10-05</th>\n",
       "      <td>50.041895</td>\n",
       "      <td>252.098341</td>\n",
       "      <td>159.029643</td>\n",
       "      <td>21.621063</td>\n",
       "    </tr>\n",
       "    <tr>\n",
       "      <th>2011-10-06</th>\n",
       "      <td>49.925473</td>\n",
       "      <td>257.098352</td>\n",
       "      <td>163.381935</td>\n",
       "      <td>21.621063</td>\n",
       "    </tr>\n",
       "    <tr>\n",
       "      <th>2011-10-07</th>\n",
       "      <td>48.923974</td>\n",
       "      <td>257.303137</td>\n",
       "      <td>164.011397</td>\n",
       "      <td>23.137092</td>\n",
       "    </tr>\n",
       "  </tbody>\n",
       "</table>\n",
       "</div>"
      ],
      "text/plain": [
       "                 AAPL        GOOG         IBM       MSFT\n",
       "Date                                                    \n",
       "2011-10-03        NaN  247.512918  155.828357  21.621063\n",
       "2011-10-04  49.281181  247.512918  155.828357  21.621063\n",
       "2011-10-05  50.041895  252.098341  159.029643  21.621063\n",
       "2011-10-06  49.925473  257.098352  163.381935  21.621063\n",
       "2011-10-07  48.923974  257.303137  164.011397  23.137092"
      ]
     },
     "execution_count": 37,
     "metadata": {},
     "output_type": "execute_result"
    }
   ],
   "source": [
    "df.ffill().head()"
   ]
  },
  {
   "cell_type": "code",
   "execution_count": null,
   "metadata": {
    "collapsed": true
   },
   "outputs": [],
   "source": []
  }
 ],
 "metadata": {
  "kernelspec": {
   "display_name": "Python 3",
   "language": "python",
   "name": "python3"
  },
  "language_info": {
   "codemirror_mode": {
    "name": "ipython",
    "version": 3
   },
   "file_extension": ".py",
   "mimetype": "text/x-python",
   "name": "python",
   "nbconvert_exporter": "python",
   "pygments_lexer": "ipython3",
   "version": "3.4.4"
  }
 },
 "nbformat": 4,
 "nbformat_minor": 0
}
